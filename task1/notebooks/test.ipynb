{
 "cells": [
  {
   "cell_type": "code",
   "execution_count": 1,
   "metadata": {},
   "outputs": [],
   "source": [
    "%%capture\n",
    "# !conda remove --all -n gtech-training -y\n",
    "# !conda create -n gtech-training python==3.11 -y\n",
    "# !conda activate gtech-training\n",
    "!pip install -r ../requirements.txt"
   ]
  },
  {
   "cell_type": "code",
   "execution_count": 1,
   "metadata": {},
   "outputs": [
    {
     "data": {
      "text/plain": [
       "True"
      ]
     },
     "execution_count": 1,
     "metadata": {},
     "output_type": "execute_result"
    }
   ],
   "source": [
    "import torch\n",
    "torch.cuda.is_available()"
   ]
  },
  {
   "cell_type": "code",
   "execution_count": 19,
   "metadata": {},
   "outputs": [],
   "source": [
    "# import cell\n",
    "import json\n",
    "import pandas as pd\n",
    "from tqdm import tqdm\n",
    "import sys, os\n",
    "from torch.utils.data import DataLoader\n",
    "from transformers import BartTokenizer, BartForConditionalGeneration"
   ]
  },
  {
   "cell_type": "code",
   "execution_count": 3,
   "metadata": {},
   "outputs": [],
   "source": [
    "my_dir = sys.path[0]\n",
    "sys.path.append(os.path.join(my_dir, '..'))\n",
    "from eli5 import *"
   ]
  },
  {
   "cell_type": "code",
   "execution_count": 4,
   "metadata": {},
   "outputs": [],
   "source": [
    "train_path = '../docs/ELI5.jsonl'\n",
    "valid_path = '../docs/ELI5_val.jsonl'"
   ]
  },
  {
   "cell_type": "code",
   "execution_count": 5,
   "metadata": {},
   "outputs": [],
   "source": [
    "with open('../docs/ELI5.jsonl', 'r') as json_file:\n",
    "    json_list_train = list(json_file)\n",
    "with open('../docs/ELI5_val.jsonl', 'r') as json_file:\n",
    "    json_list_valid = list(json_file)"
   ]
  },
  {
   "cell_type": "code",
   "execution_count": 6,
   "metadata": {},
   "outputs": [],
   "source": [
    "train_dataset = ELI5(json_list_train)\n",
    "valid_dataset = ELI5(json_list_valid)"
   ]
  },
  {
   "cell_type": "code",
   "execution_count": 7,
   "metadata": {},
   "outputs": [],
   "source": [
    "bs = 1\n",
    "train_data_loader = DataLoader(train_dataset, batch_size=bs, shuffle=True)\n",
    "valid_data_loader = DataLoader(valid_dataset, batch_size=bs, shuffle=False)"
   ]
  },
  {
   "cell_type": "code",
   "execution_count": 13,
   "metadata": {},
   "outputs": [],
   "source": [
    "# valid_dataset[0]"
   ]
  },
  {
   "cell_type": "code",
   "execution_count": 27,
   "metadata": {},
   "outputs": [
    {
     "name": "stderr",
     "output_type": "stream",
     "text": [
      "Some weights of BartForQuestionAnswering were not initialized from the model checkpoint at facebook/bart-large and are newly initialized: ['qa_outputs.weight', 'qa_outputs.bias']\n",
      "You should probably TRAIN this model on a down-stream task to be able to use it for predictions and inference.\n"
     ]
    }
   ],
   "source": [
    "model_name = \"facebook/bart-large\"\n",
    "tokenizer = BartTokenizer.from_pretrained(model_name)\n",
    "model = BartForQuestionAnswering.from_pretrained(model_name)"
   ]
  },
  {
   "cell_type": "code",
   "execution_count": 24,
   "metadata": {},
   "outputs": [],
   "source": [
    "question_id, question, answers, ctxs = valid_dataset[0]"
   ]
  },
  {
   "cell_type": "code",
   "execution_count": 26,
   "metadata": {},
   "outputs": [],
   "source": [
    "inputs = tokenizer(question, ctxs[0], return_tensors=\"pt\")"
   ]
  },
  {
   "cell_type": "code",
   "execution_count": 28,
   "metadata": {},
   "outputs": [],
   "source": [
    "with torch.no_grad():\n",
    "    outputs = model(**inputs)"
   ]
  },
  {
   "cell_type": "code",
   "execution_count": 31,
   "metadata": {},
   "outputs": [],
   "source": [
    "answer_start_index = outputs.start_logits.argmax()\n",
    "answer_end_index = outputs.end_logits.argmax()\n",
    "predict_answer_tokens = inputs.input_ids[0, answer_start_index : answer_end_index + 1]"
   ]
  },
  {
   "cell_type": "code",
   "execution_count": 32,
   "metadata": {},
   "outputs": [
    {
     "data": {
      "text/plain": [
       "'J'"
      ]
     },
     "execution_count": 32,
     "metadata": {},
     "output_type": "execute_result"
    }
   ],
   "source": [
    "tokenizer.decode(predict_answer_tokens, skip_special_tokens=True)"
   ]
  },
  {
   "cell_type": "code",
   "execution_count": 15,
   "metadata": {},
   "outputs": [
    {
     "data": {
      "text/plain": [
       "('1kiwfx',\n",
       " 'In Trading Places (1983, Akroyd/Murphy) how does the scheme at the end of the movie work? Why would buying a lot of OJ at a high price ruin the Duke Brothers?',\n",
       " ['The final scene involves future contracts. This simply means entering into a contract to buy something (oil, wheat, even frozen concentrated orange juice(FCOJ)) at a specified time for the current price. The person selling the future does not have to own the FCOJ at the time of sale he simply has to provide them at the agreed upon date. Futures help companies mitigate risk against the unpredictable price of FCOJ. If the price of FCOJ goes up the buyer wins the seller loses and visa versa. This price is often affected by fresh oranges. If there is a good harvest FCOJ price goes down and so on. The Dukes believed there was going to be a bad harvest. Their plan was to buy as much FCOJ as they could and basically corner the market then sell it at a much higher price due to a lack of oranges. So here is what happened. At first Winthrop and Valentine begin selling futures contracts at inflated prices caused by the Dukes (on the info from the fake report of a bad orange harvest) at approximately $1.45 per unit. When the report comes out that the orange harvest is expected to be good caused a massive selloff and the futures price plummeted to about $.22 cents. This is when Winthrop and Valentine begin buying futures instead of selling. So now they can fill the futures orders of $1.45 with oranges costing $.22 earning something like a 545% profit.',\n",
       "  'They had an episode of Marketplace that addressed this a few weeks ago:  URL_0 ',\n",
       "  'NPR actually did a interview explaining everything pretty well.  URL_0 ',\n",
       "  'If I remember correctly, they knew that the price of orange juice was going to fall. Normally this wouldn\\'t matter, because you are supposed to buy and hold stocks, but they were buying what\\'s called \\'futures\\'. In a nutshell, they were buying contracts that afford them the legal right to purchase units of OJ at a specific price. Since they knew the price of OJ would fall (remember the dude with the locked briefcase?) they were buying option contracts to purchase OJ at a higher price. Anyone with half a brain would sell them these and of course that\\'s what happened. For in depth knowledge, look up \"how futures trading works.\"',\n",
       "  \"The unrealistic part of that flick is not the trading but Winthorp and Valentine being able just to waltz in to that pit and stand wherever they want. Spots in a commodity pit are protected like gang turf. They just go in and stand in the middle. Also if they deposit the cash from everyone's savings lets say 100k and the margin per contract is 5k per contract they can only buy or sell 20 contracts. I don't know what the FCOJ margins are, but if they trade more than 20 the profit goes to the exchange. At least that's how the CME rolls.\",\n",
       "  'Fun fact: In \"Coming to America\", when Akeem\\'s character gave the money to the 2 homeless guys, it was the Duke brothers. :)  URL_0 ',\n",
       "  \"odd things I noted - 1. They didn't go in with that much cash. I understand they first sold high and then bought low. So how did they sell so much with just a small sum? They should've bought very little contracts of fcoj which would sell out in 1min with that frenzy and then the buyers would go somewhere else and price would rise even beyond $1.42 2. They all look at the clock and then 9am (I think) strikes and crop report is read. Then they all panic because they need to unload whatever they bought and finding the 2 buying they sell ASAP. Again how can these 2 buy everything with so little money? 3. Finally the closing bell strikes and trading stops. How did all this scheme happen so fast ? Doesnt trading happen 9:30am to 4pm at NYSE (why wtc was shown?) for such commodities. Did they spend that many hours there? It just seemed sudden and abrupt the time flow.\",\n",
       "  'it was the margin call for the duke brothers. as i\\'m sure others explained, the dukes shorted the market based on info from the phony crop report. so when the price shot up, a margin call was due, even after the price settled a bit after billy and louie sold their holdings for huge gains. when the market closed with the price still up, the movie shows the guy affiliated with the exchange saying \"Margin call.\". In reality I think it would\\'ve been the firm that they trade through and that provided them the loan in the first place. (margin call means pay back the loaned amount) edit: maybe I had it backwards and the dukes were going to go long on OJ futures, but it\\'s the same principle. margin call did them in after the market worked against them based on their false knowledge.',\n",
       "  'I feel so old. People have been askinbg what happened at the end of this movie for what must be the last 15 years of my life. It never stops. Every year/month/fortnight, I see someone asking what happened, and someone explaining. Andf it will keep on happening, until I am 90yrs old, in a home, with nothing but the Internet and my bladder to keep me going. And there it will be: \"what happens at the end of Trading Places?\"'],\n",
       " [[\"do now that he has gambled away their money, leaving little to pay their debts, especially to Olive (Jessie Royce Landis). They pawn their last few valuable possessions, hoping to win enough in the casino. However, Olive takes the seat the husband was waiting for and proceeds to win a great deal of money. When she gets up, he takes his rightful place and loses all he has. That night, the couple awake to find Olive's chauffeur, Murdoch (Jack Warner), trying to steal from them. After laughing at him (since they have nothing worth the effort), the wife proposes he\",\n",
       "   '-28.025991914677434'],\n",
       "  [\"or getting the turn over man to find an incentive usually in the form of a smaller less expensive unit or a trade in unit from another owner. This tactic is commonly used as a sales ploy, because the resort is not interested in reselling already deeded property. Similar to the automobile sales industry, the manager and salesman know beforehand exactly what the lowest price is that will be offered to the prospect, well before the prospect has arrived for the tour. If one incentive doesn't move a prospect to purchase, another will follow shortly, until the prospect has either\",\n",
       "   '-27.963292791544518'],\n",
       "  [\"National Kinney expanded from parking and building services into real estate development by purchasing the Uris Buildings Corporation, but the timing was bad as the New York real estate market collapsed in the 1973-75 recession. The main Uris Building asset was soon lost to foreclosure.\\nIn 1979, after some protracted negotiations, National Kinney attempted to purchase The Aladdin hotel and casino in Las Vegas in a joint venture with Johnny Carson, planning to rename it after the star. However, Carson's wife Joanna gossiped about the deal, and subsequent trading in National Kinney stock led to insider trading charges against third parties\",\n",
       "   '-27.53239519892668'],\n",
       "  ['and exit the scheme as a captain. Therefore, the participants in the bottom three tiers of the pyramid lose their money if the scheme collapses.\\nIf a person is using this model as a scam, the confidence trickster would take the majority of the money. They would do this by filling in the first three tiers (with one, two, and four people) with phony names, ensuring they get the first seven payouts, at eight times the buy-in sum, without paying a single penny themselves. So if the buy-in were $5,000, they would receive $40,000, paid for by the first eight investors.',\n",
       "   '-27.235775393550284'],\n",
       "  ['Estate, to buy the property for $225 million (including assumption of $130 million in debt).  Hedwigs planned to redesign and rebrand the casino once again, as a \"lifestyle, entertainment-driven boutique hotel\". Analysts called the agreement \"curious\" given Hooters\\'s poor earnings performance. The deal fell through in June 2008 when Hedwigs failed to make a required payment.\\nWith revenue declining, the casino began defaulting on loan payments in April 2009.  Canpartners Realty Holding Co., a subsidiary of Canyon Capital, bought up much of the company\\'s debt at a heavy discount and planned to foreclose on the hotel. The owners, seeking',\n",
       "   '-27.234676995431073'],\n",
       "  ['claimed that they would never have invested in the company in the first place if they had known Brink had already sold her shares. Though the prospectus noted that Brink had \"transferred\" her shares, aggrieved shareholders claimed that they were misled because the prospectus should have said she \"sold\" her shares to Baystar.\\nIt later became known that, fearing a market collapse, the banks had wanted the WOL float to go ahead quickly. The AEX, however, had threatened to stop the initial offering because of Brink\\'s pre-selling of most of her holding. ABN Amro responded by threatening an injunction against the',\n",
       "   '-27.230504880004446'],\n",
       "  ['gambling casino, but although Ziegfeld passes, Fanny insists on investing. When the venture fails and they lose their money, Fanny tries to make light of it, which propels Nick to get involved in a shady bond deal, resulting in his arrest for embezzlement. Fanny feels helpless but stronger than ever in her love for him (\"The Music That Makes Me Dance\").\\nIn the present, Fanny is waiting for Nick to arrive and has time to reflect on her situation. Nick arrives, newly released from prison, and he and Fanny decide to separate. She is heartbroken, but resolves to pick up her',\n",
       "   '-27.026717140106484'],\n",
       "  ['scheme\"; in this scheme, new investors contribute funds that get redistributed to earlier investors (including Lewis himself). As long as new investors keep contributing, earlier ones keep getting a return on their investment and the fraud continues. But eventually, new investors stop contributing and the whole pyramid collapses, with the later contributors getting nothing in return for their investment.\\nAs is the case with many Ponzi schemes, Lewis relied on trust and word of mouth to help build his scheme. Many of Lewis\\' victims were members of churches and church-related groups, of which Lewis was reportedly a member.\\nIn 2003, investors became',\n",
       "   '-26.848384858778445'],\n",
       "  [\"billion borrowing $3 billion for the deal. The takeover made The Stars Group, then called Amaya, the world's biggest publicly listed online gambling company.  The deal was closed on August 1, 2014, with final payment being made on May 31, 2017.\\nDavid Baazov was Amaya's CEO at that time. In March 2016, following charges by Canadian regulators with multiple securities fraud charges, he took an indefinite leave of absence, and resigned in August. \\nOn June 6, 2018, the Court of Quebec ordered a Stay of the Proceedings brought by the Autorite Des Marches Financiers (Canada) against David Baazov. The Supreme\",\n",
       "   '-26.755563974482357'],\n",
       "  ['gambles away what little money they have, and Quilp seizes the opportunity to take possession of the shop and evict Nell and her grandfather. Her grandfather suffers a breakdown that leaves him bereft of his wits, and Nell takes him away to the Midlands of England, to live as beggars.\\nConvinced that the old man has stored up a large and prosperous fortune for Nell, her wastrel older brother, Frederick, convinces the good-natured but easily led Dick Swiveller to help him track Nell down, so that Swiveller can marry Nell and share her supposed inheritance with Frederick. To this end, they',\n",
       "   '-26.740136599342804'],\n",
       "  [\"Trading Places Plot Duke brothers Randolph and Mortimer own a successful commodities brokerage firm Duke & Duke in Philadelphia. Holding opposing views on the issue of nature versus nurture, they make a wager and agree to conduct an experiment switching the lives of two unwitting people at opposite sides of the social hierarchy and observing the results. They witness an encounter between their managing director—the well-mannered and educated Louis Winthorpe III, engaged to the Dukes' grand-niece Penelope—and a poor street hustler named Billy Ray Valentine; Valentine is arrested at Winthorpe's insistence because of a suspected robbery attempt. The Dukes decide\",\n",
       "   '-26.731122497090837'],\n",
       "  ['Marylin Star Insider trading In December 1999 she was charged with insider trading for using bank merger information given by former lover James McDermott, an investment banker and former chairman and CEO of the investment banking firm of Keefe, Bruyette & Woods, and for sharing that information with another lover, New Jersey businessman Anthony Pomponio. Prosecutors stated Star used the tips to make $88,135 in the stock market from May 1997 through the summer of 1998, and Pomponio made a comparable amount.\\nStar escaped arrest by fleeing to Vancouver, British Columbia, Canada, where she married stockbroker Michael Gilley in 2000. She',\n",
       "   '-26.710280087776482'],\n",
       "  ['5% interest, in one of his early ventures when he first moved to the Las Vegas area. (Wynn indicated that he did not know that the other owners had mob connections.\\nIn 1988, Margaret Elardi bought The Frontier from the late Howard Hughes company, Summa Corp. Elardi had previously been the part-owner of the Pioneer Club Las Vegas and the Pioneer Hotel & Gambling Hall in Laughlin. She closed the showroom, which had featured Siegfried and Roy, and down-scaled much of the hotel.\\nIn September 1991, union workers began a strike at the hotel, which lasted for years. Plans for new resort',\n",
       "   '-26.51179833119386'],\n",
       "  ['and Winthorpe close their futures position by buying futures at the lower price from everyone but the Dukes, turning a large profit. The Dukes fail to meet a margin call, and are left owing $394 million. Valentine and Winthorpe explain to the Dukes that they had made a wager on whether they could simultaneously get rich while making the Dukes poor. Valentine collects $1 from Winthorpe while Randolph collapses holding his chest and Mortimer shouts angrily at his brother about their failed plan. Later, the now wealthy Valentine, Winthorpe, Ophelia, and Coleman vacation on a tropical beach, while Beeks and',\n",
       "   '-26.510543416487053'],\n",
       "  ['Bo, he must first try to sell the house to Carl on whatever terms Abe is willing to sell. If they reach an agreement, Abe sells the house to Carl. However, if they fail, Abe is free to start fresh negotiations with Bo without any restriction as to price or terms. In venture capital In venture capital deals, the right of first refusal is a term sheet provision permitting existing investors in a company to accept or refuse the purchase of equity shares offered by the company, before third parties have access to the deal. The main goal of the',\n",
       "   '-26.50947344469023'],\n",
       "  ['the scheme knew that there was no money to invest in a trading venture, and no realistic expectation that there would ever be a trade to exploit, but the potential for great wealth was widely publicised at every opportunity, so as to encourage interest in the scheme. The objective for the founders was to create a company which they could use to become wealthy, and which offered future scope for further government deals. Flotation The Charter for the company was drawn up by Blunt, based on that of the Bank of England. Blunt was paid £3,846 for his services in',\n",
       "   '-26.432733273868507'],\n",
       "  [\"employee of the hotel, had spoken to the owner about her previous termination by Anne only to be reminded that her previous purchase of stocks in the company to keep it afloat during a financial crisis had blossomed proving her with an impressive fortune. Citing her cruel treatment of employees and her less than satisfying contact with customers Emma fires Anne much to everyone's delight. Before leaving Madea reveals that Mr. Brown is actually Cora's father much to Cora's then despair. Everyone is shown repairing their relationships as the play ends with a powerful and grateful appeal from the cast\",\n",
       "   '-26.43060888549371'],\n",
       "  ['they end up humiliating themselves. They return and convince Ethel to reveal the fortune, which is in the form of half-million dollar negotiable bonds. They are in the teddy bear that she has been carrying around with her, and Mrs. Savage is about to hand them over, only to have Mrs. Paddy turn out the lights. The room is thrown into darkness and chaos. When the lights come back on, the money is gone. Act III The staff begin to search for Mrs. Paddy and the bonds. After much effort from all, Mrs. Paddy is found, but she does not',\n",
       "   '-26.41257742512971'],\n",
       "  ['for what The Economist has dubbed the 2011 \"starburst revival\" is that \"companies seeking buyers for parts of their business are not getting good offers from other firms, or from private equity\". For example, Foster\\'s Group, an Australian beverage company, was prepared to sell its wine business. However, due to the lack of a decent offer, it decided to spin off the wine business, which is now called Treasury Wine Estates. Conglomerate discount According to The Economist, another driving force of the proliferation of spin-offs is what it calls the \"conglomerate discount\" — that \"stockmarkets value a diversified group at',\n",
       "   '-26.37977399940428'],\n",
       "  [\"ultimately find their lives changed because of him.\\nMelmotte sets up his office in the City of London and purchases a fine house in Grosvenor Square. He sets out to woo rich and powerful investors by hosting a lavish party. He finds an appropriate investment vehicle when he is approached by an American entrepreneur, Hamilton K. Fisker, to float a company to construct a new railway line running from Salt Lake City, USA, to Veracruz, Mexico. Melmotte's goal is to ramp up the share price without paying any of his own money into the scheme itself, thus further enriching himself, regardless\",\n",
       "   '-26.376998494262807'],\n",
       "  [\"right ones for the infamous and not always apt gambler Jonathan Tuttle (Frank Darien). When Tuttle passes away shortly after their enterprise has taken off, Suzanne finds out that he has left her seven thousand dollars through his will. She is more than surprised, since he wasn't that successful in his gambling. Suzanne takes the money to Bill, offering him to use them to scale up his business, but once again his pride comes in the way. She decides to leave Bill, returns the engagement ring, and leaves for New York to try her own wings of fortune.\\nHer lucky pin\",\n",
       "   '-26.345532058388926'],\n",
       "  ['as a pump and dump by stockbrokers. This is when a stockbroker who owns a security artificially inflates the price by upgrading it or spreading rumors, and then sells the security and adds short position. They will then downgrade the security or spread negative rumors to push the price back down. This is an example of stock fraud. It is a conflict of interest because the stockbrokers are concealing and manipulating information to make it misleading for the buyers. The broker may claim to have the \"inside\" information about impending news and will urge buyers to buy the stock quickly.',\n",
       "   '-26.336900475638686'],\n",
       "  [\"the property with an interest to purchase it. CEO Alex Meruelo was intrigued by the property's potential to truly become an elite destination resort. After negotiations between Meruelo and JPMorgan, a deal was reached to sell the 145-acre site for only $42 million. This payment was made in cash, and the deal was announced in February 2011. Quickly, the deal closed after regulatory approval in April 2011. Out of bank ownership, Meruelo pledged to continually make improvements. Not gamers, Meruelo, owner of successful restaurant chains, TV stations and construction companies, was now in the business of hotel/casinos. He brought on\",\n",
       "   '-26.32343108027999'],\n",
       "  [\"as he had done to countless other traders before). This led to a rather dramatic showdown between Little and the financiers involved. At the time, making good on a purchase promise required a transaction at the associated clerk's office, and on the day it was due the brokers gathered at the Erie Railroad Company clerk's office, smug at the likelihood that they had beaten Little at his own game. What the traders did not know was that Little had purchased convertible bonds at a company sale in London a few years before; Little entered the premises, apparently unrushed, carrying an\",\n",
       "   '-26.30713175726123'],\n",
       "  ['and forcing Maxine to hand over her share of the Casino to the Company.',\n",
       "   '-26.202008024585666'],\n",
       "  [\"You Can't Take It with You (film) Plot A successful banker, Anthony P. Kirby (Edward Arnold), has just returned from Washington, D.C., where he was effectively granted a government-sanctioned munitions monopoly, which will make him very rich. He intends to buy up a 12-block radius around a competitor's factory to put him out of business, but there is one house that is a holdout to selling. Kirby instructs his real estate broker, John Blakely (Clarence Wilson), to offer a huge sum for the house, and if that is not accepted, to cause trouble for the family.  Meanwhile Grandpa Vanderhof\",\n",
       "   '-26.184036960999947'],\n",
       "  ['Fletcher) out of their restaurant, \"The Hutch\". Marnie asks Diane if she would consider selling the business to her, to which Diane refuses. This prompts Marnie to convince James to help steal it for themselves. Marnie sets off a fire alarm to disrupt the restaurant during peak trading and James steals Tony\\'s laptop to scrutinise the business accounts. When Diane\\'s nephew Scott Drinkwell causes The Hutch to lose money on a catering job, James and Marnie decide to use his error to their advantage. James begins to fool Scott into believing he is attracted to him in order to use',\n",
       "   '-26.10945705580525'],\n",
       "  ['also made changes in the distribution of the money from the entry fees in the World Series of Poker that were unpopular with the casino dealers, and closed a popular restaurant in the casino. Benny had used one of the tables in the restaurant as his office. Despite these measures, the Horseshoe became bogged down in debt. Under her father and brothers, the Horseshoe had reportedly been the most profitable casino in Las Vegas (it was privately held, so it never had to report its earnings).\\nBehnen also attracted the attention of the state regulators by failing to keep sufficient funds',\n",
       "   '-26.088383129128488'],\n",
       "  ['the brink of collapse because the company needs $200,000 that it owes to its creditors. Luckily Matilda Wedderburn comes to Truscott’s rescue, even though he put their romance to an end, by offering her good friend the money that he desperately needs therefore saving the company.\\nStella moves back to Cloverdale leaving Groveland in her rear-view mirror because she wants to forget about her experience working for Wendell Truscott as much as possible. She soon receives a letter from Truscott asking her to come back to work because he cannot find anyone who did as good a job as she did,',\n",
       "   '-26.066918404307216'],\n",
       "  [\"him money to fund projects as needed. However, Nash eventually learns that his deal was too good to be true when the investors declare that the vineyard is not a good investment and they want to tear it down to build a mall.\\nJared's lie that he was a Buchanan was exposed by Dorian Lord at a share holder's meeting at Buchanan Enterprises. Dorian also exposed that Jared and Natalie had been sleeping together. She declared that all deals made under Jared were null and void. She declared that she owned Buchanan Enterprises. Of the deals made null and void, was\",\n",
       "   '-26.054847365172463'],\n",
       "  ['lease space to operate the casino in the hotel. The company gave notice of intent to terminate the lease agreement with Jackpot in February 1996, in accordance with the terms, owing to monthly loss of revenue on a consistent basis. Gambling operations discontinued as of March 31, 1996. By December 31, 1996, the company was in default, unable to make principal and interest payments on their mortgage. Payroll taxes of approximately $1,063,000, along with other accounts payable and accrued liabilities of approximately $3,643,000, were also in default.\\nIn 1997, Fisher began pursuing avenues to sell the property to timeshare developer ILX',\n",
       "   '-26.02845485243597'],\n",
       "  ['out the business was rejected. As a result, they were forced to sell the company to another businessman. Now they are out of wealth and back to the doughnuts when all of a sudden, just before Joan is to marry a Frenchman, the same woman that came and gave Belle the $50,000 for her mine comes and tells her they didn’t find any gold, just water. Now, Joan and Jerry get married and Belle and Kate are back where they started, at the doughnut business!',\n",
       "   '-26.026306664774893'],\n",
       "  [\"2007 finale in St. Petersburg, Russia, was attended by Russian President Vladimir Putin, former Italian prime minister Silvio Berlusconi and actor Jean-Claude Van Damme.\\nIn 2018, Ayre revealed plans to build a $100 million five-star resort on Antigua's Valley Church beach. He claimed that the project would be entirely funded by profits he made from trading Bitcoin, of which he was an early investor.\\nAs of 2018 Ayre is involved with Bitcoin SV. Retirement and reemergence In 2006, the online gambling industry underwent realignment as US authorities made high-profile arrests of several online gambling executives. Ayre sold Bodog's US-facing online gambling business\",\n",
       "   '-25.985719588352367'],\n",
       "  ['Reuben Parsons Life A native of New England, Parsons originally arrived in New York City with the intention of starting his own business. He lost the small fortune he had brought with him, several thousand dollars, in a gambling house soon after his arrival. Impressed by how quickly he had lost his money, he instead decided to open his own gambling house and used his entrepreneurial skills to build a successful gambling empire by financing other gamblers. He also differed from typical gamblers by being \"dressed plainly and was unassuming in manner\". Parsons also refrained from publicly appearing at his',\n",
       "   '-25.967179509345442'],\n",
       "  ['Hotel & Casino in Las Vegas, and a competing group led by Wayne Newton successfully bought the property. According to lawyer Henry Bushkin, Carson became annoyed that he was often portrayed by the media as having \"lost\" the deal and reacted by telling jokes on his show about Newton, who had spent a great deal of effort building a masculine image. This created something of a high-profile feud between Carson and Newton. Years later, Newton appeared on Larry King Live, declaring that \"Johnny Carson is a mean-spirited human being. And there are people that he has hurt that people will',\n",
       "   '-25.959082868954283'],\n",
       "  ['in April 1996, and selling the taverns it had acquired in the course of slot route operations. In December, the company decided, after performing due diligence, not to make an offer for the Diamond Jo.\\nWith Kirkland\\'s backing in place, analysts expected the company to execute a major merger. United was cited as a possible suitor to buy Casino Magic, Caesars World, or Circus Circus.\\nIn December 1994, United changed its name to Alliance Gaming Corporation, to reflect the company\\'s \"revitalization and redefinition\". Bally Gaming acquisition Alliance began seeking ways to apply its marketing strength in the equipment business. Company executives felt',\n",
       "   '-25.95622492948314'],\n",
       "  [\"to marry for the money. Fortunately for her, she trusts Bo's words and turns the tables on Simona and Marco, and also turns down the money from her father and departs, claiming that money and greed ruined the family long before that day. She realizes that she was allowing herself to slowly turn into a selfish and greedy person like her father and she sees how she may have been doomed to turn into him. If she didn't wise up and decides to break away from him once and for all.\\nAt the end of the film, Bo is working as\",\n",
       "   '-25.953452673275024'],\n",
       "  [\"customer of the Legendre's company, visits the city, Lil thinks she has found a way to force her way into the highest social circles. She seduces Charles, then blackmails him into throwing a party at her mansion, knowing that no one would dare offend him by not showing up. It seems like a social coup for Lil, until her hairdresser friend and confidante Sally (Una Merkel) points out that all the guests have left early to attend a surprise party for Irene (who lives across the street).\\nHumiliated, she decides to move to New York City, even if it means a\",\n",
       "   '-25.953330164484214'],\n",
       "  [\"that the Schoudler empire has run out of capital. As this will depress the share price, his plan is to buy a controlling interest on the cheap. When the market price starts falling, François is in despair and Maublanc tells him that the only decent thing to do is to put a bullet through his head. Unfortunately, the impressionable young man does so. Noël then goes down to the stock exchange where, speaking to brokers, he reassures them that his businesses are sound. The share price soars and Maublanc's plot is foiled.\",\n",
       "   '-25.884104022607062'],\n",
       "  ['sued the city and Marriott in the Superior Court of Santa Clara County to block the transaction. The court nullified the sale, forcing the city to attempt to salvage the deal through negotiations with the other parties. Unable to broker a timely agreement, the city council voted 6–1 to scuttle the sale on February 5, 1985, though the city was still interested in owning the park. After Marriott refunded a $20 million down payment back to the city, negotiations were restarted. All parties were able to agree on a compromise, which was signed in marathon sessions taking place in early',\n",
       "   '-25.88315946405055'],\n",
       "  [\"a stock scheme, and promptly loses it as well when the stock tanks. Hardy Livingston (Irving Pichel), a wealthy lady's man, has his eye on Elsa and finds his chance to trap her into an adulterous affair by giving her the money she needs to repay the charity money.\\nThe next day Jeffrey informs her his investments have paid off and they are now fabulously wealthy. She attempts to repay the money she had borrowed from Livingston, however he wants sexual favors instead. Elsa says she would rather commit suicide; Livingston hands her a pistol and invites her to do so\",\n",
       "   '-25.88261653156951'],\n",
       "  [\"purchases the property immediately, he secretly takes out a new mortgage, hoping to buy it back after George invests in the venture. However, water instead of copper is found on the land, and all dealings with George end, and banker Sam Howell begins to repossess the Hefferen's furniture.\\nHaving concluded telling Hart her story, Emily returns home and finds the furniture being returned, thanks to the kindness of Jim's friends, who paid off the loan. Jim, ashamed he has not provided for his family, prepares to leave. Rosemary reminds her mother that without Jim the town never would have had a\",\n",
       "   '-25.875875389494468'],\n",
       "  ['They would continue to buy in underneath the real investors, and promote and prolong the scheme for as long as possible to allow them to skim even more from it before it collapses.\\nAlthough the \"captain\" is the person at the top of the tree, having received the payment from the eight paying passengers, once they leave the scheme they are able to re-enter the pyramid as a \"passenger\" and hopefully recruit enough to reach captain again, thereby earning a second payout. Matrix schemes Matrix schemes use the same fraudulent, unsustainable system as a pyramid; here, the participants pay to join',\n",
       "   '-25.87464478390757'],\n",
       "  [\"or debt financing), Crown Jewel maneuvers (selling off attractive assets at a discount to anyone except the acquirer) and similar. The main difference is that they are done to such an extreme that they threaten the company's livelihood. Companies attempting such maneuvers may thus find themselves insolvent, and in a position where they cannot resist continued takeover bids. The flip side is that the tactics reduce the company's value to potential buyers such that, unless the firm still possesses intangible assets (like a brand name or other intellectual property) that are valuable to the acquirer, the acquisition of this now-troubled\",\n",
       "   '-25.86410812716349'],\n",
       "  [\"a fortune from an accidental racing bet and from some apparently worthless gold mining shares sold to him by some crooks, including Arthur's boss Leon Fencott. Chedworth moves into a large house, unaware the money he discovered was counterfeit. Fencott is the head of the forgers.\\nWhen Arthur tries to pass off one of his forged bank notes to Fencott, the gangsters come after the money and kidnap Chedworth. They are arrested by Brian Carford, a federal agent who has been romancing Gwen and watching Chedworth to see if he is a forger. Chedworth gets to keep his legitimate fortune and\",\n",
       "   '-25.85417882836191'],\n",
       "  [\"connections with millionaire Japanese families. Clay immediately sees an opportunity to make Jacob Hale believe he has investors in time. His idea is that he will have the investors pull out at the last minute, which will put an end to Charming Heights. After retrieving the last brick of cocaine that Juice had stolen, framing Miles for it, Clay asks Romeo for help killing Tara, to keep the secret of the letters hidden.\\nClay comes to Piney's cabin in the night. After discussing trust issues and differences in the cabin, Clay leaves, only to break down the door, knocking Piney off\",\n",
       "   '-25.83576606673887'],\n",
       "  ['Real Deal (American TV series) Format It follows the \"sellers\" who try to pitch their items to the \"dealers\". The dealers will offer an amount after a brief evaluation of the item, based on their professional evaluation and years of experience. After debating on the price, the seller can accept the cash offer, or choose to go to auction and potentially lose money or exceed the dealer\\'s offer. The auction is hosted at Don Presley\\'s auction house in Anaheim, CA. Season 1 (2011) The first season had a wide variety of items presented to the dealers, including a restored gas',\n",
       "   '-25.83369714624132'],\n",
       "  [\"The investor is free to either agree with his quoted price and trade with him, or ignore him completely. Mr. Market doesn't mind this, and will be back the following day to quote another price.\\nThe point of this anecdote is that the investor should not regard the whims of Mr. Market as a determining factor in the value of the shares the investor owns. He should profit from market folly rather than participate in it. The investor is advised to concentrate on the real life performance of his companies and receiving dividends, rather than be too concerned with Mr. Market's\",\n",
       "   '-25.83152026764583'],\n",
       "  [\"Woe to the Young Plot The story concerns a rich old man named Andreas, who wants to be young again so as to marry a young girl, that makes a deal with the Devil. He becomes young but poor and the little money he has he spends. Moreover, the girl - after her mother's coercion - rejects him and wounds up marrying another rich old man. The film ends with Andreas waking up, realizing this was all but a dream.\",\n",
       "   '-25.79422743525356'],\n",
       "  [\"million mortgage in April. The hotel's general manager said in October 2011 that Columbia Sussex would not fight the foreclosure, and that the hotel was overleveraged due to property values declining in the recession. Lenders asked a court to appoint Pyramid Hotel Group as receiver to operate the resort. Pyramid leased the property's casino to 777 Gaming, a company that had operated several rural casinos and a slot route, for four years beginning in May 2012.\\nThe hotel was later renamed The Westin Las Vegas. The casino floor had fewer than 300 slot and video poker machines and only ten table\",\n",
       "   '-25.77797581080813'],\n",
       "  [\"price, A can do a badla transaction. Suppose there is a badla financier B who has enough money to purchase the shares, so on A's request, B purchases the shares and gives the money to his broker. The broker gives the money to exchange and the shares are transferred to B. But the exchange keeps the shares with itself on behalf of B. Now, say one month later, when A has enough money, he gives this money to B and takes the shares. The money that A gives to B is slightly higher than the total value of the shares.\",\n",
       "   '-25.729408101557055'],\n",
       "  [\"is a disagreement regarding a potential PokerSpot buyout offer that might have refunded all money deposited by former PokerSpot players. Burton Ritchie posted an open letter on RGP in January 2003 stating the details of the buyout offer, which included the paying off of existing debts and a $200,000 payday and 10% equity stake for Boyd in the new company. While defending himself against Ritchie's claims, Boyd subsequently acknowledged that he had indeed backed out of a deal with Ritchie to pursue a better deal with Golden Palace. Boyd claims that Golden Palace backed out of their deal, which lead\",\n",
       "   '-25.72213296254631'],\n",
       "  [\"with three corporations interested in purchasing the resort.\\nOn October 23, 1968, billionaire Howard Hughes reached an agreement to purchase the Landmark through Hughes Tool Company for $17.3 million, after previously denying reports in March 1968 that he was interested in purchasing the project. As part of the sale agreement, Hughes' Hotel Properties, Inc. would accept responsibility for approximately $8.9 million owed to the Teamster Union, as well as approximately $5.9 million in other debts and a balance of $2.4 million to Plaza Tower, Inc. At the time of the agreement, Hughes also owned five other hotel-casinos in Las Vegas. The\",\n",
       "   '-25.710906228632666'],\n",
       "  [\"dropped this plan, due in part to the state's concerns about the company's viability.\\nIn 2007, the company attempted to negotiate a buyout with several public and private firms, but on July 2, it announced that it could not reach a deal, and would take itself off the market. The company planned to lay off employees in order to cut costs. 2009 bankruptcy and restructuring The casino group filed for bankruptcy again in February 2009, owing $1.2 billion. Two sets of debt holders eventually proposed reorganization plans for the group in U.S. bankruptcy court.\\nTrump initially made an agreement with banker and\",\n",
       "   '-25.708469047676772'],\n",
       "  [\"to a shareholder's meeting.  This entails buying a GML share on Wall Street, which has become a hybrid stock-market and public casino.  Mundin braves the touts and thugs of the market to trick his way to buying a share, normally impossible because of the activities of certain brokers.   Hiding out in Belly Rave, he meets Bligh, who has become adept in negotiating with the gangs there.  Bligh arranges Mundin's safe passage to the company meeting, in a deliberately obscure building on Long Island.\\nAt the meeting Mundin, learning to play off the power brokers against each\",\n",
       "   '-25.685323927551508'],\n",
       "  ['and assumed ownership, assigning it to their affiliate Credit Markets Real Estate Holdings to oversee operations. That affiliate brought on Las Vegas-based management companies such as Catalyst, who flips struggling hotel/casinos and makes them attractive to a buyer. Those companies, including the Navengante Group and Santo Gaming, both Las Vegas based, continued to make improvements to the resort such as adding or replacing restaurants. The hotel/condo program was eliminated and settlements with buyers are ongoing to this day, the renovated rooms above the 17th floor that are non-private owned rent as hotel rooms.\\nIn 2009, The Meruelo Group began looking at',\n",
       "   '-25.677598001013394'],\n",
       "  [\"large sum of money for their property, enough to pay back all their investors. Parker's partner, Clarke, overhears Benton's offer, and not wanting to lose out on such a lucrative prospect, offers the pair even more money. Lum and Abner agree to sell to Clarke, and return to Pine Ridge, able to pay back all their investors with interest, as well as making a tidy profit for themselves. Parker and Clarke, meanwhile, are left with a worthless piece of property. Production In July 1944, RKO announced that Goin' to Town would be one of at least 50 films on their\",\n",
       "   '-25.67456543413573'],\n",
       "  [\"throwing spit balls at one another and at lecturers, calling phone sex lines and then broadcasting them over the company's intercom, gambling on behavioral traits (such as how long it took certain trainees to fall asleep during lectures), and the trainees' incredible lust for money and contempt for any position that did not earn much.\\nLewis attributed the bond traders' and salesmen's behavior to the fact that the trading floor required neither finesse nor advanced financial knowledge, but, rather, the ability and desire to exploit others' weaknesses, to intimidate others into listening to traders and salesmen, and the ability to spend\",\n",
       "   '-25.662252115434967'],\n",
       "  [\"in a rundown house, and Jake and Star renew their relationship. Star asks him what his dreams are, and he shows her his private stash of cash and items he's stolen from the houses he visits, which he intends to use to buy a home.\\nKrystal dumps the girls off where oil workers are about to go to work in the morning. Star climbs in the back of their truck and tries to sell to them, but one of the oil workers tells her he'll pay her five hundred dollars to go on a date with him. Star asks for a\",\n",
       "   '-25.64549799193628'],\n",
       "  ['meltdown.\\nPrince famously said about Citigroup\\'s continued commitment to leveraged buy-out deals, despite fears of reduced liquidity because of the occurring sub-prime meltdown: \"As long as the music is playing, you’ve got to get up and dance.\" Personal life Prince is currently married to Margaret L. Wolff. The couple was wed on September 20, 2003 at The Pierre Hotel in New York City. Semi-retired Judge Robert W. Sweet presided over the ceremonies. Affiliations Prince serves in the influential trade group the Financial Services Forum, as well as a member of the Council of Foreign Relations, the Business Roundtable, and several other',\n",
       "   '-25.632631927190232'],\n",
       "  [\"Reversal of Fortune (2003 film) Plot Having turned his back on a promising career as a professional golfer, Kang Seung-wan is now a down on his luck stock exchange worker, and in debt to local gangster Ma Kang-sung. After crashing his car while driving through a tunnel, Seung-wan wakes up to find himself in an alternate reality where he fulfilled his sporting ambitions, and is now a famous golf champion. But things aren't as perfect as they first seem; he now has a wife who wants a divorce, and must compete in a major golf tournament despite not having played\",\n",
       "   '-25.627286903967615'],\n",
       "  [\"in  other jurisdictions (see Regulated Markets below). On February 10, 2012, PokerStars acquired a European Union license granted by the Malta Lotteries and Gaming Commission.\\nWhile privately owned, PokerStars had been the subject of financial media speculation regarding a possible initial public offering or merger with a publicly listed company. Analysts estimated its market value would have been approximately $2 billion (US) in 2006, which would have made the company one of the world's largest privately held gambling companies. PokerStars overtook PartyPoker as the world's largest online poker room after the U.S. Congress passed the Unlawful Internet Gambling Enforcement Act\",\n",
       "   '-25.60222014336614'],\n",
       "  ['makes the sale. Jake, however, fearing the worst, arrives and threatens the men with a gun before stealing their car. Initially angry at Jake, Star is later touched that he came to find her, and the two have sex in the car. When they return to the hotel for the evening, Jake tells her not to mention their relationship, and he gives the money Star earned to Krystal.\\nFor a while, things between Jake and Star are tense, and Krystal threatens to drop her on the side of the road if she keeps causing trouble. The crew ends up living temporarily',\n",
       "   '-25.6015235814848'],\n",
       "  ['of locating Charlotte as a favour to Jimmy\\'s pal, and promises that if he is successful, Price will allow him to retire without fuss.\\nPrice also tells the narrator about a crew of gangsters who have recently acquired two million high quality Ecstasy pills from Amsterdam. Price tasks the narrator with finding a buyer for the pills, and quickly. During the meeting with the gangsters, collectively known as the \"Yahoos,\" the narrator finds that he cannot reason with them, and he leaves upon promising to find a buyer for the pills, albeit at a much lower price than if the Yahoos',\n",
       "   '-25.59743530410924'],\n",
       "  ['proposal. Bankruptcy and attempted sale During the fight over the building\\'s zoning, Sommer claimed that he would go bankrupt if he was unable to develop the property.  Fourways filed for Chapter 11 bankruptcy in 1989, and by October 1989, the Fourways restaurant had closed.\\nTrying to pay creditors, Sommer attempted to sell the mansion.  Sommer\\'s initial asking price was $7 million, which he later reduced to $3 million.  A number of embassies and chanceries looked at the mansion, but none purchased.  According to real estate broker Stanley Holland, Sommer \"thought it was worth more than it was.\"',\n",
       "   '-25.595734161965083'],\n",
       "  [\"stock out the back door or treat the business like a personal bank when it was going well.\\nEventually Hallas despaired and by mutual agreement let himself be bought out by Peterson's mother Joan for just $1000.  If run well the business should have been a gold mine, but he thought getting out was the smartest thing to do, and he remained friends with Peterson.  Joan took charge, but couldn't much improve the overall operation.  She ended up walking away in 1977 when Peterson brought in a girlfriend who Joan strongly disapproved of, and shortly after that the\",\n",
       "   '-25.588180146552986'],\n",
       "  [\"founded Rialto Capital Management, which was originated to acquire distressed real estate and mortgage debt. In 2011, former businessman and convicted felon Barry Minkow engaged in an extortion scheme to manipulate the company's stock, which caused the shares to lose 26% of their value in one day. Minkow was sentenced to 5 years in prison, and was ordered to pay $584 million in restitution. San Diego real estate developer Nicolas Marsch III hired Minkow to back his claims that Lennar cheated Marsch out of millions of dollars on a private golf community.\\nIn 2012 the company's home orders returned to its\",\n",
       "   '-25.559956399549264'],\n",
       "  ['as interested in purchasing the chain for a reported sum of $750\\xa0million; however, the parties could not reach agreement and the deal was not finalised. It has also been reported that both Wesfarmers and the US based Blackstone Group had expressed interest in purchasing the chain. Analysts valued the business at close to $600\\xa0million, however it was believed the Muir family would not sell for less than $1\\xa0billion. The organisation of the company, with stores being held in joint ownership, added complexity to negotiations with potential buyers.\\nIn September 2016 JB Hi-Fi bought The Good Guys for $870\\xa0million. Community involvement In',\n",
       "   '-25.547330939531093'],\n",
       "  ['that investment banks are interested in the company, causing the share price to soar. Further complications arise when Jay Ray, Ray Jay, and J.R. get Molly fired so that she will spend more time with Henry. She thinks Henry is responsible for her firing. She also discovers that he is actually an Easterner and a Yale University graduate; masquerading as a Texan just helps him with his wheeling and dealing. The judge dismisses the Federal Securities Commission case when it is determined that all the Universal Widgets shares are in the hands of just a handful of shareholders, not the',\n",
       "   '-25.534890819326392'],\n",
       "  ['first time, but is successful the second time when tricked into signing the consent when presented with the false Lease for Pillage.\\nTradelove is described as a stickler for trade, hates anything that comes with a sword, and a great admirer of Dutch traders believing they understand trade better than any other nation. It is also noted that he is devilish in his dealings, as he cheated his father for the advantage of stock to get a bargain. He is encouraged to offer his consent to marry Anne Lovely to the Dutch trader in lieu of the payment of two thousand',\n",
       "   '-25.50644985733379'],\n",
       "  ['2½ years of construction, the resort formally opened to the public at 8:00\\xa0pm on December 22, 2008, to large crowds.  Due to the period\\'s economic downturn, the opening was designed to be more subdued than previous casino resort openings.  The resort\\'s jewelry shop featured the 231 carats (46.2\\xa0g), prune-sized Wynn Diamond, billed as \"the largest cut pear-shaped diamond in the world\".  To open the betting, Steve Wynn gave high-rollers a few million dollars to make the initial bets and initiated the action by declaring over a microphone, \"Let the games begin!\"; the start of gambling was accompanied',\n",
       "   '-25.500949925219174'],\n",
       "  [\"commission, and Sachs and Tobman were forced to sell the Stardust and surrender their gaming licenses. Suspicions, accusations and controversy about the Stardust's hidden ownership over the years was finally squelched when Sam Boyd's locally based, squeaky-clean gaming company, Boyd Gaming, purchased the Stardust in March 1985.\\nThe Stardust was a gold mine to the Chicago Outfit, the skim being extremely large. When it was taken over by the reputable Boyd family, they were surprised by its huge profits, with every penny of income recorded. Ex-FBI agent William F. Roemer, Jr., longtime senior agent of the FBI's organized-crime squad in Chicago\",\n",
       "   '-25.49556368633057'],\n",
       "  [\"would constitute the crime of insider trading. This may be because of a stronger presumption of equality between investors, or it may be because a company employee who also trades in the company's stock has a conflict of interest, and has thus misrepresented himself the company.\\nAn advantage player typically uses mental, observational or technical skills to choose when and how much to bet, and neither interferes with the instruments of the game nor breaks any of its rules. Representatives of the casino industry have claimed that all advantage play is cheating, but this point of view is reflected neither among\",\n",
       "   '-25.48516008682782'],\n",
       "  ['company claims to act as their \"forex dealer\", it is financially interested in making the retail customer lose money. The contract is directly between the customer and the pseudo-dealer, so it is an off-exchange one; it cannot be normally registered and traded on futures exchanges.\\nAlthough it is possible for a few experts to successfully arbitrage the market for an unusually large return, this does not mean that a larger number could earn the same returns even given the same tools, techniques and data sources. This is because the arbitrages are essentially drawn from a pool of finite size; although information',\n",
       "   '-25.466829418332054'],\n",
       "  ['the legality of the stock proposal, as the sale could not proceed without the approval of the Interstate Commerce Commission. Local opposition was high, and the plan eventually came to nothing.\\nIn the spring of 1931, Stewart incorporated as the Columbia Transportation Company, and began a plan to put his rival, Captain Elfving, out of business. He began quietly buying up underwater parcels of real estate all around the Elfving ferry dock, and then one night with a hired marine pile driver drove in pilings around the dock so that a ferry could not get through. This move, which had been',\n",
       "   '-25.419567454780918'],\n",
       "  ['wife, Hazel Temple (Jacqueline deWit), discovers the mistake and suggests that Benny be hired to avoid an accounting scandal, as they have been \"cooking the books\". Unfortunately, Benny is fired from his salesman post after only one day. Clarence transfers Benny to the company\\'s Stockton branch, which is run by Morrison\\'s cousin, Tom Chandler (also played by Bud Abbott).\\nBenny\\'s misfortunes continue, including a prank played on him by his new coworkers when they convince him that he can read minds.  However, the prank gives Benny sufficient confidence to become Hercules\\' \\'Salesman of the Year\\'. He is sent back to',\n",
       "   '-25.41670605749823'],\n",
       "  [\"finds himself even deeper in debt and the target of a hitman named Dale (Michael Rapaport). Gig then proposes Russ rig the Pennsylvania Lottery with the help of his amoral girlfriend Crystal Latroy (Lisa Kudrow), a ditzy model who pulls and announces the winning numbers on television, and her oddball cousin Walter (Michael Moore), who will pose as the owner of the lucky ticket.\\nTheir plan works, but before the $6.4 million jackpot can be claimed, everything begins to unravel. First, Walter gets greedy, refuses to hand the winning ticket over to his cousin and Crystal's physical confrontation triggers Walter's ultimately\",\n",
       "   '-25.413470464845886'],\n",
       "  ['some of his acts to get the trade back up, leading to a love/hate friendship with him. The following year, Newton & Ridley decides to sell the licence to the pub and offers Bet first refusal; however, Bet cannot raise the money and Alec (who was attracted to her) lends her the cash to purchase the licence, allowing her to become the landlady.\\nShe starts having serious trouble keeping up with the repayments and, panicking, suddenly disappears. Alec convinces Newton & Ridley to appoint him as a temporary manager so he can mind his investment. When Bet gets in touch with',\n",
       "   '-25.391972418874502'],\n",
       "  [\"get access to the backstage, which will be crucial in the route to the elevator shaft that is the sole means to the basement vault in which the casino proceeds are kept. Francis does this by beginning a romance with dancer Brigitte. However, enjoying his affluent facade, he gets so caught up in the wooing of Brigitte he frequently ignores Charles' communications, which almost leads to the robbery being cancelled until Francis assures him he can stick to the intricate plan. Meanwhile, Louis tells Charles he will forego his share of the money, fearing that he will be seduced by\",\n",
       "   '-25.388812678400427'],\n",
       "  [\"the hope of getting enough to pay back the debts. On his way to the casino, he meets a pink-socked assassin who he fears may have been sent to kill him. It turns out that he has not (or at least, Eddie is not the man's current target).\\nWhen gambling the last of his money, Eddie wins- thanks to him mimicking the gambling decisions of a man who looks uncannily like himself-, but the casino is no longer operational; due to the Willflower's imminent departure, the town (which was created only to house people working on the project), is closing down,\",\n",
       "   '-25.388617671458633'],\n",
       "  [\"job that the couple that wants to invest at the resort became pissed and cancelled the investment. In order to help him, Turo, Mr.Toribio, Nemo and Bogart tricked Mac by telling them they have a catering service in Manila, but in Boni's birthday. Meanwhile, in a convenience store,a confrontation ensued when 2 perverted men tried to harass 2 customers (Pia Guanio and Zsa Zsa Padilla). They defend the women and thank them, Mac pulling an anti-asthma medicated nebulizer. Mac was shocked when he learned when he arrived at his own house. He was confronted by her wife, for not being\",\n",
       "   '-25.38260390458163'],\n",
       "  ['by being forced to buy an undesired good (the tied good) to purchase a good they actually want (the tying good), and so would prefer that the goods be sold separately. The company doing this bundling may have a significantly large market share so that it may impose the tie on consumers, despite the forces of market competition. The tie may also harm other companies in the market for the tied good, or who sell only single components.\\nAnother common example comes from how cable and satellite TV providers contract with content producers. The production company pays to produce 25 channels',\n",
       "   '-25.376436522594304'],\n",
       "  [\"out of money. Millborough gives him alcohol, causing him to pass out. Millborough takes him home, steals jewels and runs away with Felix. Angelo wakes realising what he has allowed to happen. Overcome with guilt, he confesses to Gabrielle. They have now lost their house to Angelo's gambling.\\nGabrielle confesses her kindness is driven by her suffering and duty and not love for Angelo. Both are ill from despair and poverty. Gabrielle tries to sell her jewels, only to find that Angelo replaced them with fake ones after gambling them away. She works as a painter, but is so weak and\",\n",
       "   '-25.369798177387565'],\n",
       "  ['and stated his \"only asset is a $250 set of golf clubs\".\\nPickering acknowledged he helped establish Cohen Strachan Investments, a betting software company which went into bankruptcy in 2010 with millions of dollars lost by gamblers. Pickering stated that he \"feels sorry for people who lost money\" but that he \"had nothing to do\" with the company. A private investigator employed by the gamblers presented a report to the Queensland Police and the Australian Securities and Investments Commission claiming ongoing links between the companies and Pickering, a claim he denied. In November 2015, Queensland Fraud Squad detectives reopened the investigation',\n",
       "   '-25.359574400587007'],\n",
       "  ['both parties, the buyer would usually negotiate for the best offer if interested and a deposit may be requested by the owner. Finally, both parties will agree on a date for full payment, signing on official payment, and the handover of keys to the property. Design Generally, buyers are attracted to internet real estate due to its accessibility and its range of properties available. Convenience Due to distance decay, personal commitments and time constraints, many turn to the web to carry out their daily activities – online shopping, booking of tickets and even for communication between parties. Using the web',\n",
       "   '-25.321992867582594'],\n",
       "  ['his control, Lee determines to acquire a larger share of the bribes by shaking down the gangsters. After learning that Number One, the head of the organization, is planning on opening a new gambling house, he threatens Blanco that he will print that information unless he gets a bigger share of money.  Upon meeting Number One, Lee obtains the larger graft, but is warned that if the story gets published, he will be in danger. Feeling that Lee is untrustworthy, Collins agrees to marry fellow reporter Charles \"Breezy\" Russell (Regis Toomey). Consequently, Lee decides to go straight and leave',\n",
       "   '-25.318765516858548'],\n",
       "  [\"then force the short sellers to pay for their borrowed shares. The aggressive purchasing would drive up the share price, and, being unable to find shares elsewhere, the short sellers would have no option but to turn to the Heinzes, who could then name their price.\\nTo finance the scheme, Otto, Augustus and Charles Morse met with Charles T. Barney, president of the city's third-largest trust, the Knickerbocker Trust Company. Barney had provided financing for previous Morse schemes. Morse, however, cautioned Otto that in order to attempt the squeeze, Otto needed much more money than Barney had, and Barney declined to\",\n",
       "   '-25.29505705399788'],\n",
       "  ['globally and \"exploit the Sotheby\\'s brand through adjacent businesses\"  and offered to \"join the Board immediately and to help recruit several new directors who have experience increasing shareholder value, share a passion for art, understand technology and luxury brands, or have operated top-performing sales organizations.\"\\nOn 3 October 2013, Sotheby\\'s responded to Third Point\\'s rapid accumulation of Sotheby\\'s stock by announcing its adoption of a shareholder rights plan, known generally as a \"poison pill\", whereby it forcibly diluted investor holdings in an attempt to ward off a hostile takeover. Third Point described the action as \"a disproportionate response\" and \"a',\n",
       "   '-25.28040803875774'],\n",
       "  ['completed as well as the prevailing level of interest rates. The bet in a merger arbitrage is that such a spread will eventually be zero, if and when the takeover is completed. The risk is that the deal \"breaks\" and the spread massively widens. Spoofing One strategy that some traders have employed, which has been proscribed yet likely continues, is called spoofing. It is the act of placing orders to give the impression of wanting to buy or sell shares, without ever having the intention of letting the order execute to temporarily manipulate the market to buy or sell shares',\n",
       "   '-25.27761448576348'],\n",
       "  [\"value of the property and if you want your money back you either need to wait for the property to be sold or sell your share to another investor. We cannot guarantee you will be able to find a buyer but everyone who has wanted to sell so far has managed to do so within a few days.’ Returns As Money Observer explains, an investor has two options ‘a fixed income-type product promising to pay between 7.5 and 10 per cent per year, [or] an equity set-up whereby investors take three-quarters of net profits.’ Dragon's Den CEO Frazer Fearnhead appeared\",\n",
       "   '-25.27685276750708'],\n",
       "  ['Harken was advised by the endowment fund of Harvard University to spin off two of its lower-performing divisions. \"According to a Harken memo, if the plan did not go through, the company had \\'no other source of immediate financing.\\'\" Bush had already taken out a $500,000 loan and sought Harken\\'s general counsel for advice. The reply was explicit: \"The act of trading, particularly if close in time to the receipt of the inside information, is strong evidence that the insider\\'s investment decision was based on the inside information... the insider should be advised not to sell\". This memo was turned',\n",
       "   '-25.272387934091967'],\n",
       "  [\"working in Barret’s Coffee House, an establishment similar to the real-world Lloyd's Coffee House.  The job gave him an opportunity to have another go at business and Roo eventually becomes possibly the richest man in the Western Realm by exploiting a shortage of grain in the free cities and through it forming the Bitter Sea Trading Company.\\nRoo marries the daughter of his first business partner Karli and has a number of children but at the same time starts an affair with Sylvia Esterbrook, a callous but beautiful woman who seduces Roo under the orders of her father and Roo's\",\n",
       "   '-25.25864729617024'],\n",
       "  ['again in 1995. The failures were partly attributed to gaming regulations that would make a purchase by a foreign company difficult, leading the company to consider a spinoff of its gaming operations.\\nBy 1996, new CEO Stephen Bollenbach, a financial expert with experience in the hotels industry and 1990-1992 CFO of The Trump Organization, had set a goal of becoming the biggest company in the gaming industry, discarding the idea of a spinoff. With growth in the number of gaming jurisdictions stalled, Bollenbach aimed to expand through acquisitions, especially in Atlantic City, where Hilton had no presence. Bally Entertainment, with five',\n",
       "   '-25.25601712136995'],\n",
       "  [\"to take the two guests money.\\nEveryone is unaware that the place is haunted by Blake's dead relatives, and they are quite disappointed with how Blake has turned out. They also regret leaving the place to him in their wills and send one of them, uncle Ezra Dewey, to set Blake straight.\\nThe gambling begins, and soon Washington and Jefferson has won the whole club from Blake through a bet. Ezra finds that the place is just as sinful and decadent under the management of Washington and Jefferson as it was under Blake. The former owners  start scheming to get the\",\n",
       "   '-25.253370597652975'],\n",
       "  [\"to the gaming room to play baccarat. The conversation moves to discussing shares in the Jungfrau Railway, which most of the guests at the party have invested in to varying extents, and which appear to be performing magnificently.\\nThe Marquis has discovered Lulu's true identity, and is blackmailing her (duet:Sag es nur gleich heraus, wieviel du haben willst; Tell me without delay, how much money you want), threatening to hand her over to the authorities. She offers herself to him, having had a previous affair, but his interests lie more in human trafficking of women and girls for commercial sexual exploitation,\",\n",
       "   '-25.249981192755513'],\n",
       "  [\"seeks out an investor that would be willing to be a silent partner, even asking Vincent Jones if he would like to purchase the other half of the vineyard. Vincent declines, and Nash soon finds himself in a game of high-stakes poker. Mysterious newcomer Jared Banks, who holds an unusual interest in Jessica's family, talks his way into the game. Though at first on a winning streak, Nash soon loses everything to Jared; to add insult to injury, Jared has already bought Antonio's share of the winery. Jared then reveals his motive for coming to town: Revenge on Jessica, who\",\n",
       "   '-25.241890737466747'],\n",
       "  ['bond, with two sureties, that he would break up his purchase within a year.',\n",
       "   '-25.229322557453997'],\n",
       "  ['the marriage and she is so worried about proving everyone wrong that she digs in her heels. In addition to revealing Levi\\'s true agenda, the wedding also launches another story. The jewels are not \"endgame.\" While Levi\\'s vendetta against the Jones family is made evident, it is clear that Maxie\\'s best friend, Lulu Spencer-Falconeri (Emme Rylan) also factors into the mystery. The next twist in the story raises the stakes. Carlivati revealed in an interview that another villain would factor into the story and said \"I think this is going to be a classic, old-school General Hospital action/adventure story\" similar',\n",
       "   '-25.227594856958603'],\n",
       "  [\"companies had become interested in the property because of its location and the potential to increase the hotel to 1,000 rooms.\\nOn September 13, 2001, Foothill Capital said during a court hearing that Vacation Village had failed to comply with a court order to sign an auction agreement for the sale of the property in November. Foothill Capital also said the hotel-casino failed to advance $50,000 for advertising costs to Eric Nelson Auctioneering, as well as failing to fully cooperate with the auctioneer's requests. An attorney for Vacation Village said the hotel-casino did not have money for advertising costs. However, various\",\n",
       "   '-25.196012681059074'],\n",
       "  ['apartment where she glumly tells him that none of her old apartment neighbors recognized her. She tells him she does not want to go back to the mansion and wants her old life back. Cavender argues against the idea, but finally gives in and zaps her back to her normal life. With excitement, she greets and jokes with all her old friends. She thanks Cavender and he realizes that she is \"the richest woman I know\" and that money does not necessarily equal happiness.\\nCavender goes up to see his boss, who rebukes him for his behavior at the party and',\n",
       "   '-25.19327211199561']])"
      ]
     },
     "execution_count": 15,
     "metadata": {},
     "output_type": "execute_result"
    }
   ],
   "source": [
    "valid_dataset[0]"
   ]
  },
  {
   "cell_type": "code",
   "execution_count": null,
   "metadata": {},
   "outputs": [],
   "source": []
  }
 ],
 "metadata": {
  "kernelspec": {
   "display_name": "Python 3",
   "language": "python",
   "name": "python3"
  },
  "language_info": {
   "codemirror_mode": {
    "name": "ipython",
    "version": 3
   },
   "file_extension": ".py",
   "mimetype": "text/x-python",
   "name": "python",
   "nbconvert_exporter": "python",
   "pygments_lexer": "ipython3",
   "version": "3.11.4"
  },
  "orig_nbformat": 4
 },
 "nbformat": 4,
 "nbformat_minor": 2
}
