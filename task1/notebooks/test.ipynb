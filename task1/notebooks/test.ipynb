{
 "cells": [
  {
   "cell_type": "code",
   "execution_count": 1,
   "metadata": {},
   "outputs": [
    {
     "name": "stdout",
     "output_type": "stream",
     "text": [
      "Requirement already satisfied: pandas in c:\\users\\nguye\\anaconda3\\envs\\gtech-training\\lib\\site-packages (from -r ../requirements.txt (line 1)) (2.0.3)\n",
      "Requirement already satisfied: tqdm in c:\\users\\nguye\\anaconda3\\envs\\gtech-training\\lib\\site-packages (from -r ../requirements.txt (line 2)) (4.65.0)\n",
      "Collecting torch (from -r ../requirements.txt (line 3))\n",
      "  Using cached torch-2.0.1-cp311-cp311-win_amd64.whl (172.3 MB)\n",
      "Requirement already satisfied: python-dateutil>=2.8.2 in c:\\users\\nguye\\appdata\\roaming\\python\\python311\\site-packages (from pandas->-r ../requirements.txt (line 1)) (2.8.2)\n",
      "Requirement already satisfied: pytz>=2020.1 in c:\\users\\nguye\\anaconda3\\envs\\gtech-training\\lib\\site-packages (from pandas->-r ../requirements.txt (line 1)) (2023.3)\n",
      "Requirement already satisfied: tzdata>=2022.1 in c:\\users\\nguye\\anaconda3\\envs\\gtech-training\\lib\\site-packages (from pandas->-r ../requirements.txt (line 1)) (2023.3)\n",
      "Requirement already satisfied: numpy>=1.21.0 in c:\\users\\nguye\\anaconda3\\envs\\gtech-training\\lib\\site-packages (from pandas->-r ../requirements.txt (line 1)) (1.25.1)\n",
      "Requirement already satisfied: colorama in c:\\users\\nguye\\appdata\\roaming\\python\\python311\\site-packages (from tqdm->-r ../requirements.txt (line 2)) (0.4.6)\n",
      "Collecting filelock (from torch->-r ../requirements.txt (line 3))\n",
      "  Obtaining dependency information for filelock from https://files.pythonhosted.org/packages/00/45/ec3407adf6f6b5bf867a4462b2b0af27597a26bd3cd6e2534cb6ab029938/filelock-3.12.2-py3-none-any.whl.metadata\n",
      "  Downloading filelock-3.12.2-py3-none-any.whl.metadata (2.7 kB)\n",
      "Requirement already satisfied: typing-extensions in c:\\users\\nguye\\anaconda3\\envs\\gtech-training\\lib\\site-packages (from torch->-r ../requirements.txt (line 3)) (4.7.1)\n",
      "Collecting sympy (from torch->-r ../requirements.txt (line 3))\n",
      "  Using cached sympy-1.12-py3-none-any.whl (5.7 MB)\n",
      "Collecting networkx (from torch->-r ../requirements.txt (line 3))\n",
      "  Using cached networkx-3.1-py3-none-any.whl (2.1 MB)\n",
      "Collecting jinja2 (from torch->-r ../requirements.txt (line 3))\n",
      "  Using cached Jinja2-3.1.2-py3-none-any.whl (133 kB)\n",
      "Requirement already satisfied: six>=1.5 in c:\\users\\nguye\\appdata\\roaming\\python\\python311\\site-packages (from python-dateutil>=2.8.2->pandas->-r ../requirements.txt (line 1)) (1.16.0)\n",
      "Collecting MarkupSafe>=2.0 (from jinja2->torch->-r ../requirements.txt (line 3))\n",
      "  Obtaining dependency information for MarkupSafe>=2.0 from https://files.pythonhosted.org/packages/be/bb/08b85bc194034efbf572e70c3951549c8eca0ada25363afc154386b5390a/MarkupSafe-2.1.3-cp311-cp311-win_amd64.whl.metadata\n",
      "  Downloading MarkupSafe-2.1.3-cp311-cp311-win_amd64.whl.metadata (3.1 kB)\n",
      "Collecting mpmath>=0.19 (from sympy->torch->-r ../requirements.txt (line 3))\n",
      "  Using cached mpmath-1.3.0-py3-none-any.whl (536 kB)\n",
      "Using cached filelock-3.12.2-py3-none-any.whl (10 kB)\n",
      "Using cached MarkupSafe-2.1.3-cp311-cp311-win_amd64.whl (17 kB)\n",
      "Installing collected packages: mpmath, sympy, networkx, MarkupSafe, filelock, jinja2, torch\n",
      "Successfully installed MarkupSafe-2.1.3 filelock-3.12.2 jinja2-3.1.2 mpmath-1.3.0 networkx-3.1 sympy-1.12 torch-2.0.1\n"
     ]
    }
   ],
   "source": [
    "!pip install -r ../requirements.txt"
   ]
  },
  {
   "cell_type": "code",
   "execution_count": 2,
   "metadata": {},
   "outputs": [],
   "source": [
    "# import cell\n",
    "import json\n",
    "import pandas as pd\n",
    "from tqdm import tqdm\n",
    "import sys, os"
   ]
  },
  {
   "cell_type": "code",
   "execution_count": 3,
   "metadata": {},
   "outputs": [],
   "source": [
    "my_dir = sys.path[0]\n",
    "sys.path.append(os.path.join(my_dir, '..'))\n",
    "from eli5 import *"
   ]
  },
  {
   "cell_type": "code",
   "execution_count": 13,
   "metadata": {},
   "outputs": [],
   "source": [
    "valid_path = '../docs/ELI5.jsonl'"
   ]
  },
  {
   "cell_type": "code",
   "execution_count": 14,
   "metadata": {},
   "outputs": [
    {
     "ename": "NameError",
     "evalue": "name 'ELI5' is not defined",
     "output_type": "error",
     "traceback": [
      "\u001b[1;31m---------------------------------------------------------------------------\u001b[0m",
      "\u001b[1;31mNameError\u001b[0m                                 Traceback (most recent call last)",
      "Cell \u001b[1;32mIn[14], line 1\u001b[0m\n\u001b[1;32m----> 1\u001b[0m valid_dataset \u001b[39m=\u001b[39m ELI5(valid_path, img_size, transform\u001b[39m=\u001b[39mtransform)\n",
      "\u001b[1;31mNameError\u001b[0m: name 'ELI5' is not defined"
     ]
    }
   ],
   "source": [
    "valid_dataset = ELI5(valid_path, img_size, transform=transform)"
   ]
  },
  {
   "cell_type": "code",
   "execution_count": 8,
   "metadata": {},
   "outputs": [],
   "source": [
    "with open('../docs/ELI5.jsonl', 'r') as json_file:\n",
    "    json_list = list(json_file)"
   ]
  },
  {
   "cell_type": "code",
   "execution_count": 11,
   "metadata": {},
   "outputs": [],
   "source": [
    "a = json.loads(json_list[0])"
   ]
  },
  {
   "cell_type": "code",
   "execution_count": 16,
   "metadata": {},
   "outputs": [
    {
     "name": "stdout",
     "output_type": "stream",
     "text": [
      "question_id --> 1oy5tc\n",
      "question --> in football whats the point of wasting the first two plays with a rush - up the middle - not regular rush plays i get those\n",
      "answers --> [\"Keep the defense honest, get a feel for the pass rush, open up the passing game. An offense that's too one dimensional will fail. And those rushes up the middle can be busted wide open sometimes for big yardage.\", \"If you throw the ball all the time, then the defense will adapt to always cover for a pass.  By doing a simple running play every now and then, you force the defense to stay close and guard against the run.  Sometimes, the offense can catch the defense off guard by faking a run and freeing up their receivers.\\n\\nAlso, you don't have to gain massive yards on every single play.  Sometimes, it works best to gain a few yards at a time.  As long as you get the first down, you are in good shape.\", 'In most cases the O-Line is supposed to make a hole for the running back to go through. If you run too many plays to the outside/throws the defense will catch on.\\n\\nAlso, 2 5 yard plays gets you a new set of downs.', \"I you don't like those type of plays, watch CFL.  We only get 3 downs so you can't afford to waste one.  Lots more passing.\"]\n",
      "ctxs --> [\"46 defense Description To stop a passing game, you can't stop it unless you put pressure on it. Now some people are good enough to put it on with a three-man rush; well, we're not. In fact, I don't know whether we're good enough to put it on with a four-man rush. If we have to send eight, we'll send eight, but we're not going to let you sit back there and pick us apart.\\n—\\u2009Buddy Ryan, 1986 NFL Films interview\\nI had to use every bit of knowledge and experience and wisdom I had to come up with game plans to\", 'especially if more yardage is needed to earn a first down and maintain possession.\\nIn both professional and college football, the offense has 40 seconds (in the Alliance of American Football, 30) from the end of the previous play to run the next play.  A team running out the clock will allow the play clock (which records the time remaining until a play must be run) to drain as much as possible before running its next play. In the NFL, this is particularly noteworthy due to the existence of the two-minute warning. If the trailing team has no timeouts remaining', 'Pass rush On defense in American football, rushing is charging across the line of scrimmage towards the quarterback or kicker in the effort to stop or \"sack\" them.  The purpose is tackling, hurrying or flushing the quarterback, or blocking or disrupting a kick.  In both college and professional football, getting a strong pass rush is an important skill, as even an average quarterback can be productive if he has lots of time to find an open receiver, even against a good secondary. To increase pressure, teams will sometimes use a pass-rushing specialist, who is usually a quick defensive', \"lead, hasten the half's end before the opponent can score.\\nIf the leading team has the ball on first down with less than two minutes to go in the game and the opposing team has no timeouts remaining, the quarterback can often safely end the game by taking a knee thrice consecutively without risking injuries or turnovers. This is because at the end of each play, the offensive team can take up to 40 seconds to start running the next play. Other football leagues The CFL has a three-minute warning. Indoor American football leagues historically used a one-minute warning once a\", 'by making them think it is being put into the game for a pass play, when the play is actually a run. James White of the New England Patriots is used as a third-down back, or as an extra wide receiver.  His receiving statistics exceed his rushing statistics, with 2,164 yards and 19 touchdowns on 248 receptions, compared to just 856 yards and 7 touchdowns on only 207 carries. Blocking Running backs are also required to help the offensive line in passing situations, and, in the case of the fullback, running plays. Running backs will often block blitzing linebackers', 'carrying the ball does have the option to run, instead of risking an incomplete pass or an interception. This play is not as popular as it once was as defensive players are expected to cover receivers until the football crosses the line of scrimmage on running plays.\\nThe running play that halfback options usually resemble is a sweep play. Sometimes the quarterback will run out of the backfield and become a receiving option for the running back.  This can be effective because the quarterback usually does very little after handing off or pitching the ball to the running back on', '(as with any play where the ball carrier is tackled in bounds). With the 40-second play clock in the NFL and NCAA, along with the two-minute warning in the NFL, a team can run off over two minutes with three straight kneel-downs if the defensive team has no more timeouts. The winning team can storm the field if up to 40 seconds remains in the game (35 in defunct Alliance of American Football), to let coaches shake hands with each other. (In the defunct AAF, as many as three straight \"victory formations\" from 105 seconds left in regulation can be', 'are allowed. The offense also has the option of running the ball to gain yardage, but a hand-off must occur behind the line of scrimmage in order for the offense to gain the run option. Defense The goal of the defense is to stop the opposing offensive unit from scoring. Before each play, one of the referees will mark off seven yards from the line of scrimmage, and the defense has the option to rush the quarterback from the seven yard mark after the ball is snapped. The defense is allowed to rush immediately (even if they are not seven', 'end or outside linebacker tasked with aggressively rushing the quarterback in obvious passing situations.\\nOne of the most effective methods of rushing the passer is by using a stunt or twist, which is when defensive players quickly change positions at the snap of the ball and engage a different blocker than the offense expected. Defenses typically task three or four defensive lineman to rush the passer on most plays, but most will occasionally increase pressure by blitzing one or more non-lineman at the quarterback when a pass play in anticipated.\\nA pass rush can be effective even if it does not sack', 'the opposing New York Giants. A related concept in football is the Hail Mary pass.\\nIn rugby union the game does not end until the ball goes dead after time has expired – therefore if a side trailing by less than one score can maintain possession and keep the ball in play they have a chance of victory. A rule change in 2017 amended the rules so that if a penalty is awarded the ball can be kicked out and a line-out taken, even if time has elapsed. The rules in rugby league also allow for play after time has elapsed;', 'two in a 29–28 victory over the Atlanta Falcons.  Berry also achieved an ordinary pick six earlier in the same game.\\nIf the intercepting team can run out the clock, the intercepting player may down the ball immediately and not attempt to gain any yardage. This eliminates the chance of a fumble that could be recovered by the other team. There are also player safety implications: when the ball is turned over, the play is now suddenly and unexpectedly moving in the opposite direction. All of the players on offense are instantly susceptible to unexpected blocks, even if not attempting', 'the quarterback if it forces the passer to get rid of the ball before he wanted to, resulting in an incomplete pass or interception. To attack a strong pass rush, offenses can throw quicker short passes or run draw plays or screen passes, which are design to lure defenders into the offensive backfield and then quickly get a ball carrier behind them.', 'the backfield. On passing plays, a running back will often run a \"safe route,\" such as a hook or a flat route, that gives a quarterback a target when all other receivers are covered or when the quarterback feels pressured. Hall of Famer Lenny Moore was a halfback who played primarily as a pass receiver.\\nSome teams have a specialist \"third down back\", who is skilled at catching passes or better at pass blocking and \"picking up the blitz,\" and thus is often put in the game on third down and long. It can also be used to fool the defense', 'known as \"passing plays\", while those where the gains are due to the player running with the ball are \"rushing plays\". Rules governing which players are eligible to receive a pass results in the offensive team being split into groups; the guards protect the quarterback, wide receivers and tight-ends are positioned at the line to run forward to receive passes, and the backs are positioned behind the line to receive the ball in a hand-off and then continue running forward for a rush.\\nThe defensive team is not privy to which type of play will develop. To protect against common plays,', 'with a play even in situations where the game clock expires after the end of the previous play. However, a quarterback kneel is by far the most common play for winning teams to run with \"zeros on the clock\" at the end of a game, barring exceptional (but not unheard-of) situations where the head-to-head point differential in the opposing teams\\' season series (a key factor in tiebreakers) remains in doubt. History Prior to the mid-1970s, teams leading in the final moments of games generally ran quarterback sneaks (which brought the risk of injuries on low-yardage plays) or dive plays to', \"the end zone, but it was too far ahead and the pass fell incomplete. Defensive back Jimmy Smith and Crabtree both made contact prior to the ball arriving, but no penalty was called and the 49ers turned the ball over on downs with 1:46 left in the game.\\nSan Francisco managed to force a three-and-out on the Ravens' next drive, but as they had only one timeout remaining, the Ravens were able to run the clock down to twelve seconds. On fourth down, and after the Ravens then called a timeout of their own, punter Sam Koch fielded the snap in\", 'the number of timeouts the defense has remaining. For example, if there is one minute remaining on the game clock on first down, and the defense has one timeout left, the offense may use two successive quarterback kneels to completely run out the clock, and if the defense uses its timeout the offense can simply run a third kneel to run out the clock. However, if there is one minute remaining on the game clock on third down, then regardless of how many timeouts the defense has, quarterback kneels will not completely run out the clock and the offense must', 'even in passing situations, adding, \"If nobody\\'s open, the broken play is probably the hardest play to stop in college football\\xa0– in any football.\" Regular season In Michigan\\'s 2011 season opener against Western Michigan, Robinson completed 9 of 13 passes for 98 yards and had 46 rushing yards on eight carries. The game was ended with 1:27 left in the third quarter due to inclement weather.\\nIn Michigan\\'s next game against Notre Dame, Robinson completed 11 of 24 passes for 338 yards with four touchdowns and had 108 yards rushing on 16 carries with a touchdown on a recovered fumble near', \"game ends because of a heavy rain, and all the kids run to the local store and hang out, waiting for the rain to end. All the kids leave, except for Cornbread, Earl and Wilford. Earl and Wilford get into a playful argument about how fast Cornbread can run home. It is decided that Cornbread should make it home in 25\\xa0seconds, so he runs off, after buying another soda for himself. Unknown to all of them, an assault suspect is in the neighborhood, and is dressed like Cornbread. The two police officers are hot on the suspect's trail, but lose\", 'They go for the ballgame...touchdown!  Touchdown!  Michael Jenkins!  On Fourth and One!  Would you believe it?!  Craig Krenzel strikes with a minute and a half left!  Holy Buckeye!\\n—\\u2009Brent Musburger, calling the play on ABC television\\nWhat was I thinking on that play?  Well, one thing I had always believed was that, when the going gets the toughest, that you always call something that we know how to do.  If it was a run, it was probably going to be an off-tackle, and if it was a pass, it was probably going to be', 'down the field to a touchdown that many observers described as \"accidental\". With just over a minute of time left in the game, the Giants called a running play and Manning handed off the ball to Ahmad Bradshaw with the hopes of stopping short of the goal line and forcing the Patriots to use their final time out, thus allowing the Giants to run out the clock. The Patriots, in turn, did not attempt to tackle Bradshaw in his run, and he then fell over the goal line despite making an attempt to stop. However, the remaining time was not', 'of that game. Trailing by three points, Brady lost control of the ball after being hit by Raiders cornerback and former Michigan teammate Charles Woodson. Oakland initially recovered the ball, but, citing the \"tuck rule,\" which states that any forward throwing motion by a quarterback begins a pass even if the quarterback loses possession of the ball as he is attempting to tuck it back toward his body, referee Walt Coleman overturned the call on instant replay, ruling it an incomplete pass rather than a fumble. Brady finished the game 32-of-52 for 312 passing yards and one interception.\\nIn the AFC', 'Halfback option play The halfback option play is an unorthodox play in American and Canadian football. It resembles a normal running play, but the running back has the option to throw a pass to another eligible receiver before crossing the line of scrimmage.\\nThe key to the play is fooling the defensive players, primarily the defensive backs. If the linebackers and/or the defensive line are fooled and believe the ball carrier is attempting a run, they will pursue the runner, abandoning their pass defense responsibilities and thereby leaving pass receivers uncovered. If the defensive backs are not fooled, the running back', 'the possibility existed that the Giants would run a play to stop short of the goal line, which would have forced the Patriots to use that timeout to stop the clock on any of the last two plays. The Giants could run the clock down, allow Tynes—who had not missed under 30 yards in four years—to kick a winning field goal, and give the Patriots only about 20 seconds of play left to score again. This also meant that the Patriots could call a defensive play where they would purposely allow the Giants to score a touchdown, which despite giving', 'the game clock by shortening the first quarter to 12 minutes long. The Classic\\'s committee, angered by the change (and an accusation that the clock had been slowed to allow a game-winning rally), asserted control over the game clock for future games so that such an incident could not happen again. The game also used a \"rally rule:\" after either team scored (by way of safety, touchdown, field goal, or returning blocked PAT attempts), if one of the two teams was losing by ten or more points, they would receive the kickoff, in order to keep the game close and', 'the serving player does not generally lose the point. Instead a \"chase\" is called where the ball made its second bounce and the server gets the chance, later in the game, to \"play off\" the chase from the receiving end; but to win the point being played off, their shot\\'s second bounce must be further from the net (closer to the back wall) than the shot they originally failed to reach. A chase can also be called at the receiving (\"hazard\") end, but only on the half of that end nearest the net; this is called a \"hazard\" chase.\\nThose areas', '100 yards or more per game is likely to win, but the reality is winning teams rush the ball in defense of their leads, and not as a tactic to produce drives that lead to points unless they are markedly superior to their opponents. The larger field generally permits greater YAC (yards after catch) on each individual catch, where the NFL produces passing plays where there are either very few YAC yards (immediate tackle) or huge YAC yards (missed tackle or broken coverage for huge gains.)  For this reason, Canadian teams usually prefer passing over rushing to a greater', 'backs being instructed to stay in coverage until the running back with the ball crosses the line of scrimmage. Another reason is that the passing ability of most running backs is usually poor in relation to the passing ability of a quarterback. However, certain teams and players do successfully run the option one to a few times a season; used sparingly it can be effective to make a game-changing play. In modern professional football history a halfback has only thrown more than one touchdown in two games: utility player Gene Mingo of the Denver Broncos threw two touchdowns as a', 'regulation, James caught an eighteen-yard pass and made a brilliant lateral to teammate Jerard Rabb running the opposite way, resulting in a game-tying touchdown with seven seconds left.  The play required James to \"sell\" to the defense the notion that he was going to keep the ball and try for a first down, and also to lateral the ball at the last instant yet lead his teammate in full stride.  A close look at the replay shows that had the lateral not been timed and delivered perfectly, the receiver would likely not have made it to the end', 'commonly known as the \"Victory Formation\", as the offense lines up in a tightly-protective \"V\" formation to minimize the chances of a fumble or other turnover. (The AAF lets teams run out the clock on three straight victory formations from 90 seconds left in regulation.)\\nConversely, a team that faces the risk of the other team running out the clock may attempt to force its opponent to score so it can quickly get the ball back. In Super Bowl XLVI, for example, the New England Patriots were ahead of the New York Giants 17–15 with 1:04 left in the fourth quarter.']\n"
     ]
    }
   ],
   "source": [
    "for i in a:\n",
    "    print(f'{i} --> {a[i]}')"
   ]
  },
  {
   "cell_type": "code",
   "execution_count": 3,
   "metadata": {},
   "outputs": [
    {
     "ename": "ValueError",
     "evalue": "Could not reserve memory block",
     "output_type": "error",
     "traceback": [
      "\u001b[1;31m---------------------------------------------------------------------------\u001b[0m",
      "\u001b[1;31mValueError\u001b[0m                                Traceback (most recent call last)",
      "Cell \u001b[1;32mIn[3], line 2\u001b[0m\n\u001b[0;32m      1\u001b[0m tqdm\u001b[39m.\u001b[39mpandas()\n\u001b[1;32m----> 2\u001b[0m train \u001b[39m=\u001b[39m pd\u001b[39m.\u001b[39;49mread_json(path_or_buf\u001b[39m=\u001b[39;49m\u001b[39m\"\u001b[39;49m\u001b[39m../docs/ELI5.jsonl\u001b[39;49m\u001b[39m\"\u001b[39;49m, lines\u001b[39m=\u001b[39;49m\u001b[39mTrue\u001b[39;49;00m)\n\u001b[0;32m      3\u001b[0m val \u001b[39m=\u001b[39m pd\u001b[39m.\u001b[39mread_json(path_or_buf\u001b[39m=\u001b[39m\u001b[39m\"\u001b[39m\u001b[39m../docs/ELI5_val.jsonl\u001b[39m\u001b[39m\"\u001b[39m, lines\u001b[39m=\u001b[39m\u001b[39mTrue\u001b[39;00m)\n",
      "File \u001b[1;32mc:\\Users\\nguye\\anaconda3\\envs\\gtech-training\\Lib\\site-packages\\pandas\\io\\json\\_json.py:784\u001b[0m, in \u001b[0;36mread_json\u001b[1;34m(path_or_buf, orient, typ, dtype, convert_axes, convert_dates, keep_default_dates, precise_float, date_unit, encoding, encoding_errors, lines, chunksize, compression, nrows, storage_options, dtype_backend, engine)\u001b[0m\n\u001b[0;32m    782\u001b[0m     \u001b[39mreturn\u001b[39;00m json_reader\n\u001b[0;32m    783\u001b[0m \u001b[39melse\u001b[39;00m:\n\u001b[1;32m--> 784\u001b[0m     \u001b[39mreturn\u001b[39;00m json_reader\u001b[39m.\u001b[39;49mread()\n",
      "File \u001b[1;32mc:\\Users\\nguye\\anaconda3\\envs\\gtech-training\\Lib\\site-packages\\pandas\\io\\json\\_json.py:973\u001b[0m, in \u001b[0;36mJsonReader.read\u001b[1;34m(self)\u001b[0m\n\u001b[0;32m    971\u001b[0m         data \u001b[39m=\u001b[39m ensure_str(\u001b[39mself\u001b[39m\u001b[39m.\u001b[39mdata)\n\u001b[0;32m    972\u001b[0m         data_lines \u001b[39m=\u001b[39m data\u001b[39m.\u001b[39msplit(\u001b[39m\"\u001b[39m\u001b[39m\\n\u001b[39;00m\u001b[39m\"\u001b[39m)\n\u001b[1;32m--> 973\u001b[0m         obj \u001b[39m=\u001b[39m \u001b[39mself\u001b[39;49m\u001b[39m.\u001b[39;49m_get_object_parser(\u001b[39mself\u001b[39;49m\u001b[39m.\u001b[39;49m_combine_lines(data_lines))\n\u001b[0;32m    974\u001b[0m \u001b[39melse\u001b[39;00m:\n\u001b[0;32m    975\u001b[0m     obj \u001b[39m=\u001b[39m \u001b[39mself\u001b[39m\u001b[39m.\u001b[39m_get_object_parser(\u001b[39mself\u001b[39m\u001b[39m.\u001b[39mdata)\n",
      "File \u001b[1;32mc:\\Users\\nguye\\anaconda3\\envs\\gtech-training\\Lib\\site-packages\\pandas\\io\\json\\_json.py:1001\u001b[0m, in \u001b[0;36mJsonReader._get_object_parser\u001b[1;34m(self, json)\u001b[0m\n\u001b[0;32m    999\u001b[0m obj \u001b[39m=\u001b[39m \u001b[39mNone\u001b[39;00m\n\u001b[0;32m   1000\u001b[0m \u001b[39mif\u001b[39;00m typ \u001b[39m==\u001b[39m \u001b[39m\"\u001b[39m\u001b[39mframe\u001b[39m\u001b[39m\"\u001b[39m:\n\u001b[1;32m-> 1001\u001b[0m     obj \u001b[39m=\u001b[39m FrameParser(json, \u001b[39m*\u001b[39;49m\u001b[39m*\u001b[39;49mkwargs)\u001b[39m.\u001b[39;49mparse()\n\u001b[0;32m   1003\u001b[0m \u001b[39mif\u001b[39;00m typ \u001b[39m==\u001b[39m \u001b[39m\"\u001b[39m\u001b[39mseries\u001b[39m\u001b[39m\"\u001b[39m \u001b[39mor\u001b[39;00m obj \u001b[39mis\u001b[39;00m \u001b[39mNone\u001b[39;00m:\n\u001b[0;32m   1004\u001b[0m     \u001b[39mif\u001b[39;00m \u001b[39mnot\u001b[39;00m \u001b[39misinstance\u001b[39m(dtype, \u001b[39mbool\u001b[39m):\n",
      "File \u001b[1;32mc:\\Users\\nguye\\anaconda3\\envs\\gtech-training\\Lib\\site-packages\\pandas\\io\\json\\_json.py:1134\u001b[0m, in \u001b[0;36mParser.parse\u001b[1;34m(self)\u001b[0m\n\u001b[0;32m   1133\u001b[0m \u001b[39mdef\u001b[39;00m \u001b[39mparse\u001b[39m(\u001b[39mself\u001b[39m):\n\u001b[1;32m-> 1134\u001b[0m     \u001b[39mself\u001b[39;49m\u001b[39m.\u001b[39;49m_parse()\n\u001b[0;32m   1136\u001b[0m     \u001b[39mif\u001b[39;00m \u001b[39mself\u001b[39m\u001b[39m.\u001b[39mobj \u001b[39mis\u001b[39;00m \u001b[39mNone\u001b[39;00m:\n\u001b[0;32m   1137\u001b[0m         \u001b[39mreturn\u001b[39;00m \u001b[39mNone\u001b[39;00m\n",
      "File \u001b[1;32mc:\\Users\\nguye\\anaconda3\\envs\\gtech-training\\Lib\\site-packages\\pandas\\io\\json\\_json.py:1320\u001b[0m, in \u001b[0;36mFrameParser._parse\u001b[1;34m(self)\u001b[0m\n\u001b[0;32m   1316\u001b[0m orient \u001b[39m=\u001b[39m \u001b[39mself\u001b[39m\u001b[39m.\u001b[39morient\n\u001b[0;32m   1318\u001b[0m \u001b[39mif\u001b[39;00m orient \u001b[39m==\u001b[39m \u001b[39m\"\u001b[39m\u001b[39mcolumns\u001b[39m\u001b[39m\"\u001b[39m:\n\u001b[0;32m   1319\u001b[0m     \u001b[39mself\u001b[39m\u001b[39m.\u001b[39mobj \u001b[39m=\u001b[39m DataFrame(\n\u001b[1;32m-> 1320\u001b[0m         loads(json, precise_float\u001b[39m=\u001b[39;49m\u001b[39mself\u001b[39;49m\u001b[39m.\u001b[39;49mprecise_float), dtype\u001b[39m=\u001b[39m\u001b[39mNone\u001b[39;00m\n\u001b[0;32m   1321\u001b[0m     )\n\u001b[0;32m   1322\u001b[0m \u001b[39melif\u001b[39;00m orient \u001b[39m==\u001b[39m \u001b[39m\"\u001b[39m\u001b[39msplit\u001b[39m\u001b[39m\"\u001b[39m:\n\u001b[0;32m   1323\u001b[0m     decoded \u001b[39m=\u001b[39m {\n\u001b[0;32m   1324\u001b[0m         \u001b[39mstr\u001b[39m(k): v\n\u001b[0;32m   1325\u001b[0m         \u001b[39mfor\u001b[39;00m k, v \u001b[39min\u001b[39;00m loads(json, precise_float\u001b[39m=\u001b[39m\u001b[39mself\u001b[39m\u001b[39m.\u001b[39mprecise_float)\u001b[39m.\u001b[39mitems()\n\u001b[0;32m   1326\u001b[0m     }\n",
      "\u001b[1;31mValueError\u001b[0m: Could not reserve memory block"
     ]
    }
   ],
   "source": [
    "train = pd.read_json(path_or_buf=\"../docs/ELI5.jsonl\", lines=True)\n",
    "val = pd.read_json(path_or_buf=\"../docs/ELI5_val.jsonl\", lines=True)"
   ]
  },
  {
   "cell_type": "code",
   "execution_count": null,
   "metadata": {},
   "outputs": [],
   "source": [
    "print(train[0])"
   ]
  }
 ],
 "metadata": {
  "kernelspec": {
   "display_name": "Python 3",
   "language": "python",
   "name": "python3"
  },
  "language_info": {
   "codemirror_mode": {
    "name": "ipython",
    "version": 3
   },
   "file_extension": ".py",
   "mimetype": "text/x-python",
   "name": "python",
   "nbconvert_exporter": "python",
   "pygments_lexer": "ipython3",
   "version": "3.11.4"
  },
  "orig_nbformat": 4
 },
 "nbformat": 4,
 "nbformat_minor": 2
}
